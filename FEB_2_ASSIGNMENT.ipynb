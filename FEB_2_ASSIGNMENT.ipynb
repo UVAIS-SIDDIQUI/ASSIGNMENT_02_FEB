{
 "cells": [
  {
   "cell_type": "code",
   "execution_count": 1,
   "id": "12e32219-37ac-444b-ba30-afd73dc6cac6",
   "metadata": {},
   "outputs": [],
   "source": [
    " ##Explain with an example each when to use a for loop and a while loop."
   ]
  },
  {
   "cell_type": "markdown",
   "id": "44fa4c0a-9333-41ee-9af4-be4c0a12ddf8",
   "metadata": {},
   "source": [
    "ANS=\n",
    "FOR LOOPS :-A for loop is a control flow statement that executes code for a predefined number of iterations. The keyword used in this control \n",
    "flow statement is “for”. When the number of iterations is already known, the for loop is used.\n",
    "\n",
    "\n",
    "Header − This part specifies the iteration of the loop. In the header part, the loop variable is also declared, which tells the body which iteration is being executed.\n",
    "\n",
    "Body − The body part contains the statement executed per iteration.\n",
    "\n",
    "The initialization, condition checking, and iteration statements are written at the beginning of the loop.\n",
    "\n",
    "It is used only when the number of iterations is known beforehand.\n",
    "\n",
    "If the condition is not mentioned in the 'for' loop, then the loop iterates the infinite number of times.\n",
    "\n",
    "The initialization is done only once, and it is never repeated.\n",
    "\n",
    "The iteration statement is written at the beginning.\n",
    "\n",
    "Hence, it executes once all statements in the loop have been executed.\n",
    "\n",
    "SYNTAX:-   for(initialization; condition; iteration){\n",
    "   //body of the 'for' loop\n",
    "      }"
   ]
  },
  {
   "cell_type": "code",
   "execution_count": 2,
   "id": "1c56430a-04d5-4f5d-b13e-c20c1208a702",
   "metadata": {},
   "outputs": [],
   "source": [
    "# EXAMPLE FOR LOOP\n",
    "l = [1,2,3,4,5]"
   ]
  },
  {
   "cell_type": "code",
   "execution_count": 4,
   "id": "231299d2-544e-4715-a0a6-f55c50e11ec8",
   "metadata": {},
   "outputs": [
    {
     "name": "stdout",
     "output_type": "stream",
     "text": [
      "1\n",
      "2\n",
      "3\n",
      "4\n",
      "5\n"
     ]
    }
   ],
   "source": [
    "for i in l :\n",
    "    print(i)"
   ]
  },
  {
   "cell_type": "markdown",
   "id": "0e4b72af-8ed0-4bf8-a9c1-59f5cb2e2241",
   "metadata": {},
   "source": [
    "While Loop:-\n",
    "A loop that runs a single statement or a set of statements for a given true condition. This loop is represented by the keyword \"while.\" When the number of iterations is unknown, a \"while\" loop is used. The statement is repeated until the boolean value is false. Because the condition is tested at the beginning of a while loop, it is also known as the pre-test loop.\n",
    "\n",
    "The initialization and condition checking are done at the beginning of the loop.\n",
    "\n",
    "It is used only when the number of iterations isn’t known.\n",
    "\n",
    "If the condition is not mentioned in the 'while' loop, it results in a compilation error.\n",
    "\n",
    "If the initialization is done when the condition is being checked, then initialization occurs every time the loop is iterated through.\n",
    "\n",
    "The iteration statement can be written within any point inside the loop.\n",
    "\n",
    "SYNTAX:-\n",
    "             while ( condition) {\n",
    "           statements;\n",
    "           //body of the loop\n",
    "        }"
   ]
  },
  {
   "cell_type": "code",
   "execution_count": 5,
   "id": "902b6b73-ad6c-43c5-ba60-ebacc10c8f96",
   "metadata": {},
   "outputs": [],
   "source": [
    "#EXAPLE OF WHILE LOOP."
   ]
  },
  {
   "cell_type": "code",
   "execution_count": 6,
   "id": "afa23dab-b0ef-41a8-ae24-f533560f2129",
   "metadata": {},
   "outputs": [
    {
     "name": "stdout",
     "output_type": "stream",
     "text": [
      "1\n",
      "2\n",
      "3\n",
      "4\n",
      "5\n",
      "6\n",
      "7\n",
      "8\n",
      "9\n",
      "10\n"
     ]
    }
   ],
   "source": [
    "a= 1 \n",
    "\n",
    "while a <= 10 :  \n",
    "    print(a)\n",
    "    a = a +1"
   ]
  },
  {
   "cell_type": "code",
   "execution_count": 7,
   "id": "cc6a82e0-06b7-4aef-9bd4-7d86bfeac325",
   "metadata": {},
   "outputs": [],
   "source": [
    "#  Write a python program to print the sum and product of the first 10 natural numbers using for \n",
    "#    and while loop. "
   ]
  },
  {
   "cell_type": "markdown",
   "id": "e95c0a42-8cb8-49d3-8a8e-784d34b3ce4f",
   "metadata": {},
   "source": [
    "USING FOR LOOP"
   ]
  },
  {
   "cell_type": "code",
   "execution_count": 2,
   "id": "f8b61ff1-2fe5-45f0-a904-c9f73d167bdd",
   "metadata": {},
   "outputs": [
    {
     "name": "stdout",
     "output_type": "stream",
     "text": [
      "Sum of first 10 natural numbers is: 55\n",
      "Product of first 10 natural numbers is: 3628800\n"
     ]
    }
   ],
   "source": [
    "\n",
    "\n",
    "sum = 0\n",
    "product = 1\n",
    "\n",
    "for i in range(1, 11):\n",
    "    sum += i\n",
    "    product *= i\n",
    "\n",
    "print(\"Sum of first 10 natural numbers is:\", sum)\n",
    "print(\"Product of first 10 natural numbers is:\", product)"
   ]
  },
  {
   "cell_type": "markdown",
   "id": "6bcbe0e3-fe9e-4f3a-bc0c-5074d92dd965",
   "metadata": {},
   "source": [
    "USING WHILE LOOP"
   ]
  },
  {
   "cell_type": "code",
   "execution_count": 3,
   "id": "e6c37374-cf63-43e3-9d96-359b1f32849f",
   "metadata": {},
   "outputs": [
    {
     "name": "stdout",
     "output_type": "stream",
     "text": [
      "Sum of first 10 natural numbers is: 55\n",
      "Product of first 10 natural numbers is: 3628800\n"
     ]
    }
   ],
   "source": [
    "sum = 0\n",
    "product = 1\n",
    "i = 1\n",
    "\n",
    "while i <= 10:\n",
    "    sum += i\n",
    "    product *= i\n",
    "    i += 1\n",
    "\n",
    "print(\"Sum of first 10 natural numbers is:\", sum)\n",
    "print(\"Product of first 10 natural numbers is:\", product)"
   ]
  },
  {
   "cell_type": "code",
   "execution_count": 4,
   "id": "3b7e5680-a8f4-48f1-9ec1-8e40a6fa8cbd",
   "metadata": {},
   "outputs": [],
   "source": [
    "#Q3:-Create a python program to compute the electricity bill for a household.\n",
    "#The per-unit charges in rupees are as follows: For the first 100 units, the user will be charged Rs. 4.5 per \n",
    "#unit, for the next 100 units, the user will be charged Rs. 6 per unit, and for the next 100 units, the user will \n",
    "#be charged Rs. 10 per unit, After 300 units and above the user will be charged Rs. 20 per unit."
   ]
  },
  {
   "cell_type": "code",
   "execution_count": 7,
   "id": "12fb345c-9831-4cf7-b600-a71ac5fd0606",
   "metadata": {},
   "outputs": [
    {
     "name": "stdin",
     "output_type": "stream",
     "text": [
      "Enter the electricity usage in units:  310\n"
     ]
    },
    {
     "name": "stdout",
     "output_type": "stream",
     "text": [
      "Your electricity bill for 310 units is: Rs. 2250.0\n"
     ]
    }
   ],
   "source": [
    "units = int(input(\"Enter the electricity usage in units: \"))\n",
    "\n",
    "if units <= 100:\n",
    "    bill = units * 4.5\n",
    "elif units <= 200:\n",
    "    bill = 100 * 4.5 + (units - 100) * 6\n",
    "elif units <= 300:\n",
    "    bill = 100 * 4.5 + 100 * 6 + (units - 200) * 10\n",
    "else:\n",
    "    bill = 100 * 4.5 + 100 * 6 + 100 * 10 + (units - 300) * 20\n",
    "print(\"Your electricity bill for {} units is: Rs. {}\".format(units, bill))"
   ]
  },
  {
   "cell_type": "code",
   "execution_count": 8,
   "id": "93d635d9-c0bb-49ae-9f09-c2c2c4e0a336",
   "metadata": {},
   "outputs": [],
   "source": [
    "#Create a list of numbers from 1 to 100. Use for loop and while loop to calculate the cube of each \n",
    "#number and if the cube of that number is divisible by 4 or 5 then append that number in a list and print \n",
    "#that list"
   ]
  },
  {
   "cell_type": "markdown",
   "id": "4a892e42-9380-4911-af51-8b0ea51a4986",
   "metadata": {},
   "source": [
    "FOR LOOP:-"
   ]
  },
  {
   "cell_type": "code",
   "execution_count": 44,
   "id": "a15c77c4-54af-4ecd-ae43-8abbe1a6e9c1",
   "metadata": {},
   "outputs": [
    {
     "name": "stdout",
     "output_type": "stream",
     "text": [
      "[2, 4, 5, 6, 8, 10, 12, 14, 15, 16, 18, 20, 22, 24, 25, 26, 28, 30, 32, 34, 35, 36, 38, 40, 42, 44, 45, 46, 48, 50, 52, 54, 55, 56, 58, 60, 62, 64, 65, 66, 68, 70, 72, 74, 75, 76, 78, 80, 82, 84, 85, 86, 88, 90, 92, 94, 95, 96, 98, 100]\n"
     ]
    }
   ],
   "source": [
    "\n",
    "l1=[]\n",
    "l=list(range(1,101))\n",
    "for i in l :\n",
    "    cube=i**3\n",
    "    if cube%4==0 or cube%5==0:\n",
    "        l1.append(i)\n",
    "print(l1)"
   ]
  },
  {
   "cell_type": "markdown",
   "id": "e5d85dae-9b31-40b7-bd0d-d3e1416858a1",
   "metadata": {},
   "source": [
    "WHILE LOOP:-"
   ]
  },
  {
   "cell_type": "code",
   "execution_count": 68,
   "id": "ca1db408-cb34-40c8-b779-41397c034880",
   "metadata": {},
   "outputs": [
    {
     "name": "stdout",
     "output_type": "stream",
     "text": [
      "[2, 4, 5, 6, 8, 10, 12, 14, 15, 16, 18, 20, 22, 24, 25, 26, 28, 30, 32, 34, 35, 36, 38, 40, 42, 44, 45, 46, 48, 50, 52, 54, 55, 56, 58, 60, 62, 64, 65, 66, 68, 70, 72, 74, 75, 76, 78, 80, 82, 84, 85, 86, 88, 90, 92, 94, 95, 96, 98, 100]\n"
     ]
    }
   ],
   "source": [
    "L2=[]\n",
    "i=1\n",
    "while i<=100:\n",
    "    cube=i**3\n",
    "    if cube%4==0 or cube%5==0:\n",
    "        L2.append(i)\n",
    "    i=i+1\n",
    "print(L2)"
   ]
  },
  {
   "cell_type": "code",
   "execution_count": 69,
   "id": "0e3e1e40-2489-49d8-9a77-2d253716769b",
   "metadata": {},
   "outputs": [],
   "source": [
    "# Q5:-Write a program to filter count vowels in the below-given string.\n",
    "#   string = \"I want to become a data scientist\""
   ]
  },
  {
   "cell_type": "code",
   "execution_count": 1,
   "id": "1bdef30d-1230-49a2-9f91-978f14c42283",
   "metadata": {},
   "outputs": [
    {
     "name": "stdout",
     "output_type": "stream",
     "text": [
      "a: 4\n",
      "e: 3\n",
      "i: 3\n",
      "o: 2\n",
      "u: 0\n"
     ]
    }
   ],
   "source": [
    "String=\"I want to become a data scientist\"\n",
    "vowels = ['a', 'e', 'i', 'o', 'u']\n",
    "\n",
    "vowel_count = {vowel: 0 for vowel in vowels}\n",
    "\n",
    "String = String.lower()\n",
    "\n",
    "for char in String:\n",
    "    if char in vowels:\n",
    "        vowel_count[char] += 1\n",
    "\n",
    "\n",
    "for vowel, count in vowel_count.items():\n",
    "    print(f\"{vowel}: {count}\")"
   ]
  },
  {
   "cell_type": "code",
   "execution_count": null,
   "id": "a7d28af6-5b76-447e-8e84-e53fd3fdfdac",
   "metadata": {},
   "outputs": [],
   "source": []
  }
 ],
 "metadata": {
  "kernelspec": {
   "display_name": "Python 3 (ipykernel)",
   "language": "python",
   "name": "python3"
  },
  "language_info": {
   "codemirror_mode": {
    "name": "ipython",
    "version": 3
   },
   "file_extension": ".py",
   "mimetype": "text/x-python",
   "name": "python",
   "nbconvert_exporter": "python",
   "pygments_lexer": "ipython3",
   "version": "3.10.8"
  }
 },
 "nbformat": 4,
 "nbformat_minor": 5
}
